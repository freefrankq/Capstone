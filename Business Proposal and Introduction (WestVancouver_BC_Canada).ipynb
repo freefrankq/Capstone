{
 "cells": [
  {
   "cell_type": "markdown",
   "metadata": {},
   "source": [
    "\n",
    "# Business Proposal and Introduction\n",
    "\n",
    "### Introduction\n",
    "\n",
    "The purpose of this Project is to help people like my friends, Adam and Eve and their 5-yr old, in exploring better facilities in West Vancouver. It will help them making smart and efficient decision on selecting the most suitable neighborhood out of numbers of other neighborhoods in West Vancouver, BC.\n",
    "\n",
    "Lots of people are migrating to West Vancouver in Greater Vancouver region of Canada and need lots of research for good housing prices and reputated schools for their children. This project is for those people who are looking for better neighborhoods. For ease of accessing to Cafe, School, Super market, medical shops, grocery shops, mall, theatre, hospital, like minded people, etc.\n",
    "\n",
    "This Project aims to create an analysis of features for anybody migrating to West Vancouver to search a suitable neighborhood as a comparative analysis between neighborhoods. The features include median housing price and better school according to ratings, crime rates of that particular area, road connectivity, weather conditions, good management for emergency, water resources both freash and waste water and excrement conveyed in sewers and recreational facilities.\n",
    "\n",
    "It will help people to get awareness of the area and neighborhood before moving to West Vancouver for their work or to start a new fresh life.\n",
    "\n",
    "\n",
    "### Problems Considered\n",
    "\n",
    "The major purpose of this project, is to suggest a better neighborhood in a new city for the person who are shiffting there. Social presence in society in terms of like minded people. Connectivity to the airport, bus stand, city center, markets and other daily needs things nearby. Especially, 2 tasks to be performed:\n",
    "\n",
    "1. Sort list of house in terms of housing prices in a ascending or descending order\n",
    "2. Sorted list of schools in terms of location, fees, rating and reviews\n",
    "\n",
    "\n",
    "### The Location \n",
    "\n",
    "West Vancouver is a city in Greater Vancouver, BC, Canada. Situated to the northwest of the City of Vancouver, it occupies the northwestern part of the Greater Vancouver region.\n",
    "\n",
    "West Vancouver is a popular destination for new immigrants in Canada to reside. As a result, it is one of the most diverse and multicultural areas in the Greater Vancouver Area. \n",
    "\n",
    "\n",
    "### Education\n",
    "\n",
    "West Vancouver offers one of the best elementary schooling opportunities in BC, Canada. \n",
    "\n"
   ]
  },
  {
   "cell_type": "markdown",
   "metadata": {},
   "source": [
    "## Foursquare API\n",
    "This project would use Four-square API as its prime data gathering source as it has a database of millions of places, especially their places API which provides the ability to perform location search, location sharing and details about a business.\n",
    "\n",
    "\n",
    "## Work Flow\n",
    "Using credentials of Foursquare API features of near-by places of the neighborhoods would be mined. Due to http request limitations the number of places per neighborhood parameter would reasonably be set to 100 and the radius parameter would be set to 500.\n",
    "\n",
    "\n",
    "## Clustering Approach\n",
    "To compare the similarities of two cities, we decided to explore neighborhoods, segment them, and group them into clusters to find similar neighborhoods in a big city like New York and Toronto. To be able to do that, we need to cluster data which is a form of unsupervised machine learning: k-means clustering algorithm.\n",
    "\n",
    "\n",
    "## Libraries Which are Used to Develope the Project\n",
    "\n",
    "1. Pandas: For creating and manipulating dataframes.\n",
    "\n",
    "2. Folium: Python visualization library would be used to visualize the neighborhoods cluster distribution of using interactive leaflet map.\n",
    "\n",
    "3. Scikit Learn: For importing k-means clustering.\n",
    "\n",
    "4. JSON: Library to handle JSON files.\n",
    "\n",
    "5. XML: To separate data from presentation and XML stores data in plain text format.\n",
    "\n",
    "6. Geocoder: To retrieve Location Data.\n",
    "\n",
    "7. Beautiful Soup and Requests: To scrap and library to handle http requests.\n",
    "\n",
    "8. Matplotlib: Python Plotting Module."
   ]
  },
  {
   "cell_type": "code",
   "execution_count": null,
   "metadata": {},
   "outputs": [],
   "source": []
  }
 ],
 "metadata": {
  "kernelspec": {
   "display_name": "Python 3",
   "language": "python",
   "name": "python3"
  },
  "language_info": {
   "codemirror_mode": {
    "name": "ipython",
    "version": 3
   },
   "file_extension": ".py",
   "mimetype": "text/x-python",
   "name": "python",
   "nbconvert_exporter": "python",
   "pygments_lexer": "ipython3",
   "version": "3.7.4"
  }
 },
 "nbformat": 4,
 "nbformat_minor": 4
}
